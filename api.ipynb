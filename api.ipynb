{
  "nbformat": 4,
  "nbformat_minor": 0,
  "metadata": {
    "colab": {
      "name": "api.ipynb",
      "provenance": [],
      "collapsed_sections": []
    },
    "kernelspec": {
      "name": "python3",
      "display_name": "Python 3"
    },
    "language_info": {
      "name": "python"
    },
    "accelerator": "GPU",
    "gpuClass": "standard"
  },
  "cells": [
    {
      "cell_type": "code",
      "execution_count": 168,
      "metadata": {
        "id": "tLrb8YHXbdDU"
      },
      "outputs": [],
      "source": [
        "from flask import Flask, request\n",
        "from tensorflow.keras.models import load_model\n",
        "import numpy as np\n",
        "import cv2\n"
      ]
    },
    {
      "cell_type": "code",
      "source": [
        "app = Flask(__name__)\n",
        "model = load_model('catdog.h5')\n"
      ],
      "metadata": {
        "id": "503DiqXvdLH_"
      },
      "execution_count": 169,
      "outputs": []
    },
    {
      "cell_type": "code",
      "source": [
        "classes_list = ['cat','dog']\n",
        "global label_names\n",
        "label_names = sorted(classes_list)"
      ],
      "metadata": {
        "id": "QJ_dT785fNfv"
      },
      "execution_count": 170,
      "outputs": []
    },
    {
      "cell_type": "code",
      "source": [
        "def predict(model,image):\n",
        "  \n",
        "  image = cv2.imread(image)\n",
        "  processed_image = preprocess(image)\n",
        "  results = model.predict(processed_image)\n",
        "  (x1, y1, x2, y2), confidence = postprocess(image, results)\n",
        "  return (x1,y1,x2,y2),confidence \n",
        "\n",
        "def preprocess(img, image_size = 300):\n",
        "  \n",
        "    image =cv2.resize(img, (image_size, image_size))\n",
        "    image = cv2.cvtColor(image, cv2.COLOR_BGR2RGB)\n",
        "    image = image.astype(\"float\") / 255.0 \n",
        "    image = np.expand_dims(image, axis=0) \n",
        "    return image\n",
        "\n",
        "def postprocess(image, results):\n",
        "\n",
        "    bounding_box, class_probs = results\n",
        "    h, w = image.shape[:2]\n",
        "    x1, y1, x2, y2 = bounding_box[0]\n",
        "    x1 = int(w * x1)\n",
        "    x2 = int(w * x2)\n",
        "    y1 = int(h * y1)\n",
        "    y2 = int(h * y2)\n",
        "    return  (x1,y1,x2,y2), class_probs"
      ],
      "metadata": {
        "id": "qY4cvoN2ohjq"
      },
      "execution_count": 171,
      "outputs": []
    },
    {
      "cell_type": "code",
      "source": [
        "@app.route('/predict', methods = ['POST'])\n",
        "def home():\n",
        "    image_path = request.json['image_path']\n",
        "    bbox, label = predict(model, image_path)\n",
        "    class_index = np.argmax(label)\n",
        "    class_label = label_names[class_index]\n",
        "    conf= str(round(np.max(label),2))\n",
        "    return {\"label\" : class_label,\"confidence\":conf,'bbox':bbox}"
      ],
      "metadata": {
        "id": "fuVQ4zp55hlj"
      },
      "execution_count": 172,
      "outputs": []
    },
    {
      "cell_type": "code",
      "source": [
        "if __name__ == '__main__':\n",
        "  app.run(debug=True, use_reloader=False)"
      ],
      "metadata": {
        "colab": {
          "base_uri": "https://localhost:8080/"
        },
        "id": "egAV9wkl5rRc",
        "outputId": "bbdb253c-5301-44af-a38a-9a292df46117"
      },
      "execution_count": 173,
      "outputs": [
        {
          "output_type": "stream",
          "name": "stdout",
          "text": [
            " * Serving Flask app \"__main__\" (lazy loading)\n",
            " * Environment: production\n",
            "   WARNING: This is a development server. Do not use it in a production deployment.\n",
            "   Use a production WSGI server instead.\n",
            " * Debug mode: on\n"
          ]
        },
        {
          "output_type": "stream",
          "name": "stderr",
          "text": [
            " * Running on http://127.0.0.1:5000/ (Press CTRL+C to quit)\n"
          ]
        },
        {
          "output_type": "stream",
          "name": "stdout",
          "text": [
            "1/1 [==============================] - 3s 3s/step\n"
          ]
        },
        {
          "output_type": "stream",
          "name": "stderr",
          "text": [
            "127.0.0.1 - - [19/Jun/2022 13:42:28] \"\u001b[37mPOST /predict HTTP/1.1\u001b[0m\" 200 -\n"
          ]
        }
      ]
    }
  ]
}